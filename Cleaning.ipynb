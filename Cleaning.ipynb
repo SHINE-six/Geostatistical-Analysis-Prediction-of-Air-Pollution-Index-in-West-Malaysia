{
 "cells": [
  {
   "cell_type": "code",
   "execution_count": 19,
   "metadata": {},
   "outputs": [],
   "source": [
    "import pandas as pd\n",
    "\n",
    "FinalSuperset = pd.read_csv(\"FinalSuperset\\\\FinalSuperset.csv\")\n",
    "\n",
    "FinalSuperset_17 = FinalSuperset[['id', 'left', 'top', 'right', 'bottom', 'row_index', 'col_index', 'API_17', 'Temp_17', 'Humidity_17', 'Precip_17', 'Wind_17', 'Vegetation_17', 'Traffic_17', 'Building', 'Altitude', 'Population_17']]\n",
    "FinalSuperset_18 = FinalSuperset[['id', 'left', 'top', 'right', 'bottom', 'row_index', 'col_index', 'API_18', 'Temp_18', 'Humidity_18', 'Precip_18', 'Wind_18', 'Vegetation_18', 'Traffic_18', 'Building', 'Altitude', 'Population_18']]\n",
    "FinalSuperset_19 = FinalSuperset[['id', 'left', 'top', 'right', 'bottom', 'row_index', 'col_index', 'API_19', 'Temp_19', 'Humidity_19', 'Precip_19', 'Wind_19', 'Vegetation_19', 'Traffic_19', 'Building', 'Altitude', 'Population_19']]\n",
    "\n",
    "FinalSuperset_17.to_csv(\"FinalSuperset\\\\FinalSuperset_17.csv\", index=True)\n",
    "FinalSuperset_18.to_csv(\"FinalSuperset\\\\FinalSuperset_18.csv\", index=True)\n",
    "FinalSuperset_19.to_csv(\"FinalSuperset\\\\FinalSuperset_19.csv\", index=True)"
   ]
  }
 ],
 "metadata": {
  "kernelspec": {
   "display_name": "Python 3",
   "language": "python",
   "name": "python3"
  },
  "language_info": {
   "codemirror_mode": {
    "name": "ipython",
    "version": 3
   },
   "file_extension": ".py",
   "mimetype": "text/x-python",
   "name": "python",
   "nbconvert_exporter": "python",
   "pygments_lexer": "ipython3",
   "version": "3.12.0"
  }
 },
 "nbformat": 4,
 "nbformat_minor": 2
}
